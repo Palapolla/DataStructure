{
  "cells": [
    {
      "cell_type": "markdown",
      "source": [
        "## Download Dataset"
      ],
      "metadata": {
        "id": "8cUVIXLUB0n_"
      }
    },
    {
      "cell_type": "code",
      "execution_count": null,
      "metadata": {
        "colab": {
          "base_uri": "https://localhost:8080/"
        },
        "id": "WOd8LQIO53c0",
        "outputId": "952b9d22-10f2-4b53-cd29-18d31cb5d846"
      },
      "outputs": [
        {
          "name": "stdout",
          "output_type": "stream",
          "text": [
            "Sun Oct 30 09:42:29 2022       \n",
            "+-----------------------------------------------------------------------------+\n",
            "| NVIDIA-SMI 460.32.03    Driver Version: 460.32.03    CUDA Version: 11.2     |\n",
            "|-------------------------------+----------------------+----------------------+\n",
            "| GPU  Name        Persistence-M| Bus-Id        Disp.A | Volatile Uncorr. ECC |\n",
            "| Fan  Temp  Perf  Pwr:Usage/Cap|         Memory-Usage | GPU-Util  Compute M. |\n",
            "|                               |                      |               MIG M. |\n",
            "|===============================+======================+======================|\n",
            "|   0  Tesla T4            Off  | 00000000:00:04.0 Off |                    0 |\n",
            "| N/A   51C    P8    10W /  70W |      0MiB / 15109MiB |      0%      Default |\n",
            "|                               |                      |                  N/A |\n",
            "+-------------------------------+----------------------+----------------------+\n",
            "                                                                               \n",
            "+-----------------------------------------------------------------------------+\n",
            "| Processes:                                                                  |\n",
            "|  GPU   GI   CI        PID   Type   Process name                  GPU Memory |\n",
            "|        ID   ID                                                   Usage      |\n",
            "|=============================================================================|\n",
            "|  No running processes found                                                 |\n",
            "+-----------------------------------------------------------------------------+\n"
          ]
        }
      ],
      "source": [
        "!nvidia-smi"
      ]
    },
    {
      "cell_type": "code",
      "execution_count": null,
      "metadata": {
        "id": "869Fdy1DHJVm"
      },
      "outputs": [],
      "source": [
        "!pip install -q kaggle"
      ]
    },
    {
      "cell_type": "code",
      "execution_count": null,
      "metadata": {
        "id": "lotWv3wLSY_D"
      },
      "outputs": [],
      "source": [
        "!rm -r ~/.kaggle\n",
        "!mkdir ~/.kaggle\n",
        "!cp /content/drive/MyDrive/Colab_Notebooks/KaggleAPI/kaggle.json ~/.kaggle/ #copy api key ---- depend on your directory -- my directory is .../colab/..\n",
        "!chmod 600 ~/.kaggle/kaggle.json"
      ]
    },
    {
      "cell_type": "code",
      "execution_count": null,
      "metadata": {
        "id": "6BsZPTXvMDKp"
      },
      "outputs": [],
      "source": [
        "!kaggle datasets list\n",
        "!kaggle competitions download -c hackathon-online-2022-image-processing #download competition dataset\n",
        "!unzip /content/hackathon-online-2022-image-processing.zip\n",
        "!mkdir /content/zipfile\n",
        "!unzip /content/IM_Test.zipfile -d /content/zipfile\n",
        "!unzip /content/IM_Train.zipfile -d /content/zipfile\n",
        "!mkdir /content/dataset/\n",
        "!unzip /content/zipfile/IM_Train.zipfile -d /content/dataset\n",
        "!unzip /content/zipfile/IM_Test.zipfile -d /content/dataset/test\n",
        "!rm -r /content/zipfile"
      ]
    },
    {
      "cell_type": "code",
      "execution_count": null,
      "metadata": {
        "id": "whLK-KMjMbWy"
      },
      "outputs": [],
      "source": [
        "# !kaggle competitions submit -c hackathon-online-2022-image-processing -f /content/IM_Submit.csv -m \"test send submit file from colab\""
      ]
    },
    {
      "cell_type": "markdown",
      "source": [
        "## **Import and Preprocess Dataset**\n",
        "Do an image augmentation which consist of rotation, width/height shift, shear and zoom. Then split the dataset 20% as validation dataset and 80% as train dataset."
      ],
      "metadata": {
        "id": "EW7eXpmCB7P3"
      }
    },
    {
      "cell_type": "code",
      "execution_count": null,
      "metadata": {
        "id": "Ox9B7_zvMzch"
      },
      "outputs": [],
      "source": [
        "import os\n",
        "import numpy as np\n",
        "import tensorflow as tf\n",
        "import matplotlib.pyplot as plt"
      ]
    },
    {
      "cell_type": "code",
      "execution_count": null,
      "metadata": {
        "colab": {
          "base_uri": "https://localhost:8080/"
        },
        "id": "xkeY0aWy0kKG",
        "outputId": "150bfb16-6508-457b-b3e8-914f99299f9d"
      },
      "outputs": [
        {
          "name": "stdout",
          "output_type": "stream",
          "text": [
            "Found 58609 images belonging to 10 classes.\n",
            "Found 14648 images belonging to 10 classes.\n"
          ]
        }
      ],
      "source": [
        "from tensorflow.keras.preprocessing.image import ImageDataGenerator\n",
        "\n",
        "train_dir = '/content/dataset/train'\n",
        "w ,h = 150,150\n",
        "# image augmentation\n",
        "train_datagen = ImageDataGenerator(\n",
        "      rescale=1./255,\n",
        "      rotation_range=40,\n",
        "      width_shift_range=0.2,\n",
        "      height_shift_range=0.2,\n",
        "      shear_range=0.2,\n",
        "      zoom_range=0.2,\n",
        "      # horizontal_flip=True,\n",
        "      # fill_mode='nearest',\n",
        "      validation_split=0.2)\n",
        "\n",
        "# Flow training images in batches of 20 using train_datagen generator\n",
        "train_generator = train_datagen.flow_from_directory(\n",
        "        train_dir,  # This is the source directory for training images\n",
        "        target_size=(w, h),  # All images will be resized to 32x32\n",
        "        batch_size=64,\n",
        "        # Since we use binary_crossentropy loss, we need binary labels\n",
        "        class_mode='categorical',\n",
        "        subset='training')\n",
        "\n",
        "# Flow validation images in batches of 20 using test_datagen generator\n",
        "validation_generator = train_datagen.flow_from_directory(\n",
        "        train_dir,\n",
        "        target_size=(w, h),\n",
        "        batch_size=64,\n",
        "        class_mode='categorical',\n",
        "        subset='validation')"
      ]
    },
    {
      "cell_type": "code",
      "execution_count": null,
      "metadata": {
        "colab": {
          "base_uri": "https://localhost:8080/",
          "height": 286
        },
        "id": "Q8LJU_okUOsH",
        "outputId": "59ec53c0-cadb-4361-de4f-8369def790a4"
      },
      "outputs": [
        {
          "data": {
            "text/plain": [
              "1"
            ]
          },
          "execution_count": 5,
          "metadata": {},
          "output_type": "execute_result"
        },
        {
          "data": {
            "image/png": "[encoded data removed]",
            "text/plain": [
              "<Figure size 432x288 with 1 Axes>"
            ]
          },
          "metadata": {},
          "output_type": "display_data"
        }
      ],
      "source": [
        "randint = np.random.randint(0,len(train_generator[0][0]))\n",
        "plt.imshow(np.array(train_generator[0][0][randint]))\n",
        "train_generator[0][1][randint].argmax()"
      ]
    },
    {
      "cell_type": "code",
      "execution_count": null,
      "metadata": {
        "colab": {
          "base_uri": "https://localhost:8080/"
        },
        "id": "40N_Ttr9tEJ7",
        "outputId": "51517745-84a5-4ea6-a866-39112cca10bf"
      },
      "outputs": [
        {
          "data": {
            "text/plain": [
              "array([[0., 0., 0., 0., 0., 0., 0., 0., 1., 0.],\n",
              "       [0., 0., 0., 0., 0., 0., 0., 0., 0., 1.],\n",
              "       [0., 0., 0., 1., 0., 0., 0., 0., 0., 0.],\n",
              "       [0., 1., 0., 0., 0., 0., 0., 0., 0., 0.],\n",
              "       [0., 1., 0., 0., 0., 0., 0., 0., 0., 0.],\n",
              "       [0., 0., 1., 0., 0., 0., 0., 0., 0., 0.],\n",
              "       [0., 0., 0., 0., 1., 0., 0., 0., 0., 0.],\n",
              "       [0., 1., 0., 0., 0., 0., 0., 0., 0., 0.],\n",
              "       [1., 0., 0., 0., 0., 0., 0., 0., 0., 0.],\n",
              "       [0., 0., 0., 0., 0., 0., 0., 1., 0., 0.],\n",
              "       [0., 0., 0., 0., 0., 0., 0., 1., 0., 0.],\n",
              "       [0., 0., 0., 1., 0., 0., 0., 0., 0., 0.],\n",
              "       [0., 0., 1., 0., 0., 0., 0., 0., 0., 0.],\n",
              "       [0., 0., 0., 0., 0., 0., 0., 1., 0., 0.],\n",
              "       [0., 0., 1., 0., 0., 0., 0., 0., 0., 0.],\n",
              "       [0., 1., 0., 0., 0., 0., 0., 0., 0., 0.],\n",
              "       [0., 0., 0., 1., 0., 0., 0., 0., 0., 0.],\n",
              "       [0., 0., 0., 0., 0., 0., 0., 0., 1., 0.],\n",
              "       [0., 0., 0., 0., 0., 1., 0., 0., 0., 0.],\n",
              "       [0., 0., 0., 1., 0., 0., 0., 0., 0., 0.],\n",
              "       [0., 0., 0., 0., 0., 0., 0., 1., 0., 0.],\n",
              "       [0., 0., 0., 0., 0., 0., 1., 0., 0., 0.],\n",
              "       [0., 0., 0., 0., 0., 1., 0., 0., 0., 0.],\n",
              "       [0., 0., 0., 0., 0., 0., 0., 1., 0., 0.],\n",
              "       [0., 0., 0., 0., 0., 0., 0., 0., 1., 0.],\n",
              "       [0., 0., 0., 0., 0., 0., 0., 0., 0., 1.],\n",
              "       [0., 0., 0., 0., 0., 0., 0., 0., 1., 0.],\n",
              "       [0., 0., 0., 0., 1., 0., 0., 0., 0., 0.],\n",
              "       [0., 0., 0., 0., 1., 0., 0., 0., 0., 0.],\n",
              "       [0., 0., 0., 0., 0., 1., 0., 0., 0., 0.],\n",
              "       [1., 0., 0., 0., 0., 0., 0., 0., 0., 0.],\n",
              "       [0., 1., 0., 0., 0., 0., 0., 0., 0., 0.],\n",
              "       [0., 0., 0., 0., 1., 0., 0., 0., 0., 0.],\n",
              "       [0., 0., 0., 1., 0., 0., 0., 0., 0., 0.],\n",
              "       [0., 0., 0., 0., 0., 0., 0., 0., 0., 1.],\n",
              "       [0., 0., 0., 0., 0., 0., 0., 0., 1., 0.],\n",
              "       [0., 1., 0., 0., 0., 0., 0., 0., 0., 0.],\n",
              "       [0., 0., 0., 0., 0., 0., 1., 0., 0., 0.],\n",
              "       [0., 0., 0., 1., 0., 0., 0., 0., 0., 0.],\n",
              "       [0., 0., 0., 0., 1., 0., 0., 0., 0., 0.],\n",
              "       [0., 0., 0., 0., 1., 0., 0., 0., 0., 0.],\n",
              "       [0., 0., 0., 0., 0., 1., 0., 0., 0., 0.],\n",
              "       [0., 1., 0., 0., 0., 0., 0., 0., 0., 0.],\n",
              "       [0., 0., 0., 0., 0., 0., 0., 1., 0., 0.],\n",
              "       [0., 0., 0., 0., 0., 0., 0., 1., 0., 0.],\n",
              "       [1., 0., 0., 0., 0., 0., 0., 0., 0., 0.],\n",
              "       [0., 0., 0., 0., 0., 1., 0., 0., 0., 0.],\n",
              "       [0., 0., 1., 0., 0., 0., 0., 0., 0., 0.],\n",
              "       [0., 0., 0., 0., 0., 0., 0., 0., 1., 0.],\n",
              "       [0., 0., 0., 0., 1., 0., 0., 0., 0., 0.],\n",
              "       [0., 0., 0., 0., 0., 0., 0., 1., 0., 0.],\n",
              "       [0., 0., 1., 0., 0., 0., 0., 0., 0., 0.],\n",
              "       [1., 0., 0., 0., 0., 0., 0., 0., 0., 0.],\n",
              "       [0., 0., 0., 0., 0., 0., 0., 1., 0., 0.],\n",
              "       [0., 0., 1., 0., 0., 0., 0., 0., 0., 0.],\n",
              "       [0., 0., 0., 1., 0., 0., 0., 0., 0., 0.],\n",
              "       [0., 0., 0., 0., 0., 0., 0., 1., 0., 0.],\n",
              "       [0., 0., 0., 0., 1., 0., 0., 0., 0., 0.],\n",
              "       [0., 0., 0., 0., 1., 0., 0., 0., 0., 0.],\n",
              "       [0., 0., 0., 1., 0., 0., 0., 0., 0., 0.],\n",
              "       [0., 0., 0., 0., 0., 0., 0., 0., 1., 0.],\n",
              "       [0., 0., 0., 1., 0., 0., 0., 0., 0., 0.],\n",
              "       [0., 0., 0., 1., 0., 0., 0., 0., 0., 0.],\n",
              "       [0., 0., 1., 0., 0., 0., 0., 0., 0., 0.]], dtype=float32)"
            ]
          },
          "execution_count": 6,
          "metadata": {},
          "output_type": "execute_result"
        }
      ],
      "source": [
        "train_generator[0][1]"
      ]
    },
    {
      "cell_type": "markdown",
      "source": [
        "## **Prepare a Model**\n",
        "In this version I used transfer learning technique from RestNet50 and fine tuning by add Flatten, Dropout, Dense layers."
      ],
      "metadata": {
        "id": "G0iFwOtFCG75"
      }
    },
    {
      "cell_type": "code",
      "execution_count": null,
      "metadata": {
        "id": "h1uyZcrYSfcX"
      },
      "outputs": [],
      "source": [
        "class myCallback(tf.keras.callbacks.Callback):\n",
        "  def on_epoch_end(self, epoch, logs={}):\n",
        "    # Check accuracy\n",
        "    if(logs.get('val_acc') > 0.88):\n",
        "\n",
        "      # Stop if threshold is met\n",
        "      print(\"\\nDOING CALLBACK\")\n",
        "      self.model.stop_training = True\n",
        "\n",
        "# Instantiate class\n",
        "callbacks = myCallback()"
      ]
    },
    {
      "cell_type": "code",
      "execution_count": null,
      "metadata": {
        "colab": {
          "base_uri": "https://localhost:8080/"
        },
        "id": "zmBRZWC1S2vM",
        "outputId": "c34033c6-8480-4d6d-f275-e1c487f3ff1b"
      },
      "outputs": [
        {
          "name": "stdout",
          "output_type": "stream",
          "text": [
            "Model: \"sequential_1\"\n",
            "_________________________________________________________________\n",
            " Layer (type)                Output Shape              Param #   \n",
            "=================================================================\n",
            " resnet50 (Functional)       (None, 2048)              23587712  \n",
            "                                                                 \n",
            " flatten_1 (Flatten)         (None, 2048)              0         \n",
            "                                                                 \n",
            " dropout_1 (Dropout)         (None, 2048)              0         \n",
            "                                                                 \n",
            " dense_1 (Dense)             (None, 10)                20490     \n",
            "                                                                 \n",
            "=================================================================\n",
            "Total params: 23,608,202\n",
            "Trainable params: 23,555,082\n",
            "Non-trainable params: 53,120\n",
            "_________________________________________________________________\n"
          ]
        }
      ],
      "source": [
        "model = tf.keras.models.Sequential()\n",
        "model.add(tf.keras.applications.ResNet50(include_top = False, pooling = 'avg', weights = 'imagenet',classes=10))\n",
        "model.add(tf.keras.layers.Flatten())\n",
        "model.add(tf.keras.layers.Dropout(0.2))\n",
        "model.add(tf.keras.layers.Dense(10, activation = 'softmax'))\n",
        "\n",
        "model.compile(optimizer = tf.keras.optimizers.RMSprop(learning_rate=0.0001),\n",
        "                     loss='categorical_crossentropy',\n",
        "                     metrics=['accuracy'])\n",
        "\n",
        "model.summary()"
      ]
    },
    {
      "cell_type": "code",
      "execution_count": null,
      "metadata": {
        "colab": {
          "background_save": true,
          "base_uri": "https://localhost:8080/"
        },
        "id": "NEFIm3XqUIoz",
        "outputId": "bf2f37d6-bbef-4669-967d-43424246c523"
      },
      "outputs": [
        {
          "name": "stdout",
          "output_type": "stream",
          "text": [
            "Epoch 1/100\n",
            "100/100 - 73s - loss: 1.6796 - accuracy: 0.4291 - val_loss: 6.1575 - val_accuracy: 0.1925 - 73s/epoch - 733ms/step\n",
            "Epoch 2/100\n",
            "100/100 - 52s - loss: 0.9217 - accuracy: 0.6925 - val_loss: 4.7853 - val_accuracy: 0.1828 - 52s/epoch - 523ms/step\n",
            "Epoch 3/100\n",
            "100/100 - 53s - loss: 0.7218 - accuracy: 0.7706 - val_loss: 6.2693 - val_accuracy: 0.1953 - 53s/epoch - 533ms/step\n",
            "Epoch 4/100\n",
            "100/100 - 53s - loss: 0.5972 - accuracy: 0.8191 - val_loss: 3.0659 - val_accuracy: 0.1934 - 53s/epoch - 531ms/step\n",
            "Epoch 5/100\n",
            "100/100 - 53s - loss: 0.5498 - accuracy: 0.8283 - val_loss: 3.2866 - val_accuracy: 0.1947 - 53s/epoch - 530ms/step\n",
            "Epoch 6/100\n",
            "100/100 - 53s - loss: 0.4994 - accuracy: 0.8481 - val_loss: 2.3983 - val_accuracy: 0.2400 - 53s/epoch - 534ms/step\n",
            "Epoch 7/100\n",
            "100/100 - 53s - loss: 0.4776 - accuracy: 0.8517 - val_loss: 1.8182 - val_accuracy: 0.3884 - 53s/epoch - 530ms/step\n",
            "Epoch 8/100\n",
            "100/100 - 53s - loss: 0.4438 - accuracy: 0.8708 - val_loss: 1.0739 - val_accuracy: 0.6397 - 53s/epoch - 532ms/step\n",
            "Epoch 9/100\n",
            "100/100 - 53s - loss: 0.4109 - accuracy: 0.8759 - val_loss: 0.7562 - val_accuracy: 0.7550 - 53s/epoch - 532ms/step\n",
            "Epoch 10/100\n",
            "100/100 - 53s - loss: 0.3941 - accuracy: 0.8805 - val_loss: 0.5824 - val_accuracy: 0.8213 - 53s/epoch - 533ms/step\n",
            "Epoch 11/100\n",
            "100/100 - 53s - loss: 0.3712 - accuracy: 0.8870 - val_loss: 0.4908 - val_accuracy: 0.8703 - 53s/epoch - 532ms/step\n",
            "Epoch 12/100\n",
            "100/100 - 56s - loss: 0.3669 - accuracy: 0.8850 - val_loss: 1.3729 - val_accuracy: 0.7247 - 56s/epoch - 557ms/step\n",
            "Epoch 13/100\n",
            "100/100 - 53s - loss: 0.3593 - accuracy: 0.8919 - val_loss: 0.5246 - val_accuracy: 0.8788 - 53s/epoch - 532ms/step\n",
            "Epoch 14/100\n",
            "100/100 - 53s - loss: 0.3431 - accuracy: 0.8983 - val_loss: 0.5576 - val_accuracy: 0.8734 - 53s/epoch - 531ms/step\n",
            "Epoch 15/100\n",
            "100/100 - 53s - loss: 0.3426 - accuracy: 0.8988 - val_loss: 0.5510 - val_accuracy: 0.8559 - 53s/epoch - 530ms/step\n",
            "Epoch 16/100\n",
            "100/100 - 53s - loss: 0.3362 - accuracy: 0.9011 - val_loss: 0.4817 - val_accuracy: 0.8669 - 53s/epoch - 526ms/step\n",
            "Epoch 17/100\n",
            "100/100 - 53s - loss: 0.3453 - accuracy: 0.8961 - val_loss: 1.9585 - val_accuracy: 0.7766 - 53s/epoch - 529ms/step\n",
            "Epoch 18/100\n",
            "100/100 - 53s - loss: 0.3090 - accuracy: 0.9073 - val_loss: 0.5841 - val_accuracy: 0.8472 - 53s/epoch - 531ms/step\n",
            "Epoch 19/100\n",
            "100/100 - 53s - loss: 0.3344 - accuracy: 0.9025 - val_loss: 0.3854 - val_accuracy: 0.8941 - 53s/epoch - 529ms/step\n",
            "Epoch 20/100\n",
            "100/100 - 53s - loss: 0.2970 - accuracy: 0.9083 - val_loss: 0.4179 - val_accuracy: 0.8953 - 53s/epoch - 529ms/step\n",
            "Epoch 21/100\n",
            "100/100 - 53s - loss: 0.3150 - accuracy: 0.9072 - val_loss: 0.3533 - val_accuracy: 0.8988 - 53s/epoch - 530ms/step\n",
            "Epoch 22/100\n",
            "100/100 - 53s - loss: 0.3056 - accuracy: 0.9112 - val_loss: 0.4946 - val_accuracy: 0.8628 - 53s/epoch - 528ms/step\n",
            "Epoch 23/100\n",
            "100/100 - 53s - loss: 0.2732 - accuracy: 0.9194 - val_loss: 0.4171 - val_accuracy: 0.8981 - 53s/epoch - 529ms/step\n",
            "Epoch 24/100\n",
            "100/100 - 53s - loss: 0.3045 - accuracy: 0.9141 - val_loss: 0.4958 - val_accuracy: 0.8691 - 53s/epoch - 533ms/step\n",
            "Epoch 25/100\n",
            "100/100 - 53s - loss: 0.2925 - accuracy: 0.9145 - val_loss: 0.3559 - val_accuracy: 0.8997 - 53s/epoch - 530ms/step\n",
            "Epoch 26/100\n",
            "100/100 - 53s - loss: 0.2888 - accuracy: 0.9158 - val_loss: 0.3820 - val_accuracy: 0.8884 - 53s/epoch - 527ms/step\n",
            "Epoch 27/100\n",
            "100/100 - 53s - loss: 0.2728 - accuracy: 0.9164 - val_loss: 0.4318 - val_accuracy: 0.8784 - 53s/epoch - 532ms/step\n",
            "Epoch 28/100\n",
            "100/100 - 53s - loss: 0.2794 - accuracy: 0.9173 - val_loss: 0.3011 - val_accuracy: 0.9094 - 53s/epoch - 528ms/step\n",
            "Epoch 29/100\n",
            "100/100 - 53s - loss: 0.2783 - accuracy: 0.9217 - val_loss: 0.4378 - val_accuracy: 0.8712 - 53s/epoch - 530ms/step\n",
            "Epoch 30/100\n",
            "100/100 - 53s - loss: 0.2917 - accuracy: 0.9111 - val_loss: 0.3368 - val_accuracy: 0.9034 - 53s/epoch - 527ms/step\n",
            "Epoch 31/100\n",
            "100/100 - 53s - loss: 0.2917 - accuracy: 0.9164 - val_loss: 0.3789 - val_accuracy: 0.9028 - 53s/epoch - 526ms/step\n",
            "Epoch 32/100\n",
            "100/100 - 53s - loss: 0.2610 - accuracy: 0.9202 - val_loss: 0.4101 - val_accuracy: 0.8900 - 53s/epoch - 528ms/step\n",
            "Epoch 33/100\n",
            "100/100 - 53s - loss: 0.2650 - accuracy: 0.9206 - val_loss: 0.4387 - val_accuracy: 0.8944 - 53s/epoch - 529ms/step\n",
            "Epoch 34/100\n",
            "100/100 - 53s - loss: 0.2661 - accuracy: 0.9228 - val_loss: 0.4192 - val_accuracy: 0.8797 - 53s/epoch - 528ms/step\n",
            "Epoch 35/100\n",
            "100/100 - 53s - loss: 0.2666 - accuracy: 0.9239 - val_loss: 0.7540 - val_accuracy: 0.8494 - 53s/epoch - 527ms/step\n",
            "Epoch 36/100\n",
            "100/100 - 53s - loss: 0.2547 - accuracy: 0.9266 - val_loss: 0.4440 - val_accuracy: 0.8822 - 53s/epoch - 528ms/step\n",
            "Epoch 37/100\n",
            "100/100 - 53s - loss: 0.2371 - accuracy: 0.9266 - val_loss: 1.2160 - val_accuracy: 0.7622 - 53s/epoch - 526ms/step\n",
            "Epoch 38/100\n",
            "100/100 - 53s - loss: 0.2390 - accuracy: 0.9264 - val_loss: 0.3473 - val_accuracy: 0.9062 - 53s/epoch - 527ms/step\n",
            "Epoch 39/100\n",
            "100/100 - 53s - loss: 0.2576 - accuracy: 0.9251 - val_loss: 0.3616 - val_accuracy: 0.9128 - 53s/epoch - 527ms/step\n",
            "Epoch 40/100\n",
            "100/100 - 53s - loss: 0.2507 - accuracy: 0.9264 - val_loss: 0.4130 - val_accuracy: 0.8916 - 53s/epoch - 527ms/step\n",
            "Epoch 41/100\n",
            "100/100 - 53s - loss: 0.2474 - accuracy: 0.9269 - val_loss: 0.5305 - val_accuracy: 0.8391 - 53s/epoch - 527ms/step\n",
            "Epoch 42/100\n",
            "100/100 - 53s - loss: 0.2219 - accuracy: 0.9320 - val_loss: 0.4074 - val_accuracy: 0.8997 - 53s/epoch - 529ms/step\n",
            "Epoch 43/100\n",
            "100/100 - 53s - loss: 0.2357 - accuracy: 0.9295 - val_loss: 0.3786 - val_accuracy: 0.9038 - 53s/epoch - 527ms/step\n",
            "Epoch 44/100\n",
            "100/100 - 53s - loss: 0.2339 - accuracy: 0.9328 - val_loss: 2.5600 - val_accuracy: 0.7594 - 53s/epoch - 527ms/step\n",
            "Epoch 45/100\n",
            "100/100 - 53s - loss: 0.2128 - accuracy: 0.9402 - val_loss: 0.4173 - val_accuracy: 0.8934 - 53s/epoch - 529ms/step\n",
            "Epoch 46/100\n",
            "100/100 - 53s - loss: 0.2360 - accuracy: 0.9284 - val_loss: 0.4344 - val_accuracy: 0.8963 - 53s/epoch - 529ms/step\n",
            "Epoch 47/100\n",
            "100/100 - 53s - loss: 0.2249 - accuracy: 0.9367 - val_loss: 0.4450 - val_accuracy: 0.8972 - 53s/epoch - 528ms/step\n",
            "Epoch 48/100\n",
            "100/100 - 53s - loss: 0.2421 - accuracy: 0.9283 - val_loss: 0.6870 - val_accuracy: 0.8641 - 53s/epoch - 530ms/step\n",
            "Epoch 49/100\n",
            "100/100 - 53s - loss: 0.2385 - accuracy: 0.9305 - val_loss: 0.3383 - val_accuracy: 0.9094 - 53s/epoch - 527ms/step\n",
            "Epoch 50/100\n",
            "100/100 - 53s - loss: 0.2233 - accuracy: 0.9334 - val_loss: 0.3586 - val_accuracy: 0.9050 - 53s/epoch - 526ms/step\n",
            "Epoch 51/100\n",
            "100/100 - 53s - loss: 0.2360 - accuracy: 0.9325 - val_loss: 0.2964 - val_accuracy: 0.9156 - 53s/epoch - 528ms/step\n",
            "Epoch 52/100\n",
            "100/100 - 53s - loss: 0.2106 - accuracy: 0.9398 - val_loss: 0.3634 - val_accuracy: 0.9084 - 53s/epoch - 527ms/step\n",
            "Epoch 53/100\n",
            "100/100 - 53s - loss: 0.2094 - accuracy: 0.9372 - val_loss: 0.3580 - val_accuracy: 0.9094 - 53s/epoch - 531ms/step\n",
            "Epoch 54/100\n",
            "100/100 - 53s - loss: 0.2069 - accuracy: 0.9370 - val_loss: 0.3690 - val_accuracy: 0.9031 - 53s/epoch - 529ms/step\n",
            "Epoch 55/100\n",
            "100/100 - 53s - loss: 0.2171 - accuracy: 0.9394 - val_loss: 0.3497 - val_accuracy: 0.9016 - 53s/epoch - 527ms/step\n",
            "Epoch 56/100\n",
            "100/100 - 53s - loss: 0.2094 - accuracy: 0.9391 - val_loss: 0.3928 - val_accuracy: 0.8994 - 53s/epoch - 529ms/step\n",
            "Epoch 57/100\n",
            "100/100 - 53s - loss: 0.2107 - accuracy: 0.9383 - val_loss: 0.3664 - val_accuracy: 0.9059 - 53s/epoch - 526ms/step\n",
            "Epoch 58/100\n",
            "100/100 - 53s - loss: 0.2244 - accuracy: 0.9355 - val_loss: 0.3402 - val_accuracy: 0.9087 - 53s/epoch - 529ms/step\n",
            "Epoch 59/100\n",
            "100/100 - 53s - loss: 0.2048 - accuracy: 0.9388 - val_loss: 0.3084 - val_accuracy: 0.9147 - 53s/epoch - 528ms/step\n",
            "Epoch 60/100\n",
            "100/100 - 53s - loss: 0.2064 - accuracy: 0.9414 - val_loss: 0.3982 - val_accuracy: 0.8866 - 53s/epoch - 529ms/step\n",
            "Epoch 61/100\n",
            "100/100 - 53s - loss: 0.2048 - accuracy: 0.9420 - val_loss: 0.3744 - val_accuracy: 0.9172 - 53s/epoch - 529ms/step\n",
            "Epoch 62/100\n",
            "100/100 - 53s - loss: 0.2137 - accuracy: 0.9400 - val_loss: 0.2828 - val_accuracy: 0.9206 - 53s/epoch - 529ms/step\n",
            "Epoch 63/100\n",
            "100/100 - 53s - loss: 0.2026 - accuracy: 0.9419 - val_loss: 0.3546 - val_accuracy: 0.9119 - 53s/epoch - 529ms/step\n",
            "Epoch 64/100\n",
            "100/100 - 53s - loss: 0.2109 - accuracy: 0.9384 - val_loss: 0.3280 - val_accuracy: 0.9159 - 53s/epoch - 527ms/step\n",
            "Epoch 65/100\n",
            "100/100 - 53s - loss: 0.2061 - accuracy: 0.9425 - val_loss: 0.2999 - val_accuracy: 0.9184 - 53s/epoch - 526ms/step\n",
            "Epoch 66/100\n",
            "100/100 - 53s - loss: 0.2006 - accuracy: 0.9416 - val_loss: 0.4059 - val_accuracy: 0.8969 - 53s/epoch - 528ms/step\n",
            "Epoch 67/100\n",
            "100/100 - 53s - loss: 0.2120 - accuracy: 0.9370 - val_loss: 0.3156 - val_accuracy: 0.9184 - 53s/epoch - 527ms/step\n",
            "Epoch 68/100\n",
            "100/100 - 53s - loss: 0.1772 - accuracy: 0.9469 - val_loss: 0.2990 - val_accuracy: 0.9162 - 53s/epoch - 526ms/step\n",
            "Epoch 69/100\n",
            "100/100 - 53s - loss: 0.2042 - accuracy: 0.9416 - val_loss: 0.3668 - val_accuracy: 0.9059 - 53s/epoch - 526ms/step\n",
            "Epoch 70/100\n",
            "100/100 - 53s - loss: 0.1934 - accuracy: 0.9408 - val_loss: 0.5150 - val_accuracy: 0.8656 - 53s/epoch - 526ms/step\n",
            "Epoch 71/100\n",
            "100/100 - 53s - loss: 0.1775 - accuracy: 0.9467 - val_loss: 0.3255 - val_accuracy: 0.9150 - 53s/epoch - 527ms/step\n",
            "Epoch 72/100\n",
            "100/100 - 53s - loss: 0.1841 - accuracy: 0.9463 - val_loss: 0.2863 - val_accuracy: 0.9253 - 53s/epoch - 526ms/step\n",
            "Epoch 73/100\n",
            "100/100 - 53s - loss: 0.2051 - accuracy: 0.9389 - val_loss: 0.2909 - val_accuracy: 0.9291 - 53s/epoch - 525ms/step\n",
            "Epoch 74/100\n",
            "100/100 - 53s - loss: 0.1958 - accuracy: 0.9422 - val_loss: 0.3802 - val_accuracy: 0.8928 - 53s/epoch - 527ms/step\n",
            "Epoch 75/100\n",
            "100/100 - 53s - loss: 0.2107 - accuracy: 0.9433 - val_loss: 0.5340 - val_accuracy: 0.8547 - 53s/epoch - 527ms/step\n",
            "Epoch 76/100\n",
            "100/100 - 53s - loss: 0.1812 - accuracy: 0.9463 - val_loss: 0.6432 - val_accuracy: 0.8725 - 53s/epoch - 528ms/step\n",
            "Epoch 77/100\n",
            "100/100 - 53s - loss: 0.1916 - accuracy: 0.9470 - val_loss: 0.3026 - val_accuracy: 0.9169 - 53s/epoch - 528ms/step\n",
            "Epoch 78/100\n",
            "100/100 - 53s - loss: 0.1864 - accuracy: 0.9480 - val_loss: 0.3615 - val_accuracy: 0.9047 - 53s/epoch - 527ms/step\n",
            "Epoch 79/100\n",
            "100/100 - 53s - loss: 0.1784 - accuracy: 0.9459 - val_loss: 0.4042 - val_accuracy: 0.8969 - 53s/epoch - 527ms/step\n",
            "Epoch 80/100\n",
            "100/100 - 53s - loss: 0.1901 - accuracy: 0.9441 - val_loss: 0.3422 - val_accuracy: 0.9166 - 53s/epoch - 526ms/step\n",
            "Epoch 81/100\n",
            "100/100 - 53s - loss: 0.1885 - accuracy: 0.9434 - val_loss: 0.3024 - val_accuracy: 0.9237 - 53s/epoch - 528ms/step\n",
            "Epoch 82/100\n",
            "100/100 - 53s - loss: 0.1882 - accuracy: 0.9480 - val_loss: 0.3534 - val_accuracy: 0.9197 - 53s/epoch - 527ms/step\n",
            "Epoch 83/100\n",
            "100/100 - 53s - loss: 0.1794 - accuracy: 0.9438 - val_loss: 0.2884 - val_accuracy: 0.9197 - 53s/epoch - 526ms/step\n",
            "Epoch 84/100\n",
            "100/100 - 53s - loss: 0.1781 - accuracy: 0.9448 - val_loss: 0.2949 - val_accuracy: 0.9278 - 53s/epoch - 527ms/step\n",
            "Epoch 85/100\n",
            "100/100 - 53s - loss: 0.1819 - accuracy: 0.9455 - val_loss: 0.3593 - val_accuracy: 0.9078 - 53s/epoch - 527ms/step\n",
            "Epoch 86/100\n",
            "100/100 - 52s - loss: 0.1909 - accuracy: 0.9433 - val_loss: 0.3358 - val_accuracy: 0.9147 - 52s/epoch - 524ms/step\n",
            "Epoch 87/100\n",
            "100/100 - 53s - loss: 0.1787 - accuracy: 0.9475 - val_loss: 0.3868 - val_accuracy: 0.9025 - 53s/epoch - 527ms/step\n",
            "Epoch 88/100\n",
            "100/100 - 53s - loss: 0.1783 - accuracy: 0.9467 - val_loss: 24.2645 - val_accuracy: 0.6903 - 53s/epoch - 527ms/step\n",
            "Epoch 89/100\n",
            "100/100 - 52s - loss: 0.1872 - accuracy: 0.9445 - val_loss: 0.3412 - val_accuracy: 0.9119 - 52s/epoch - 524ms/step\n",
            "Epoch 90/100\n",
            "100/100 - 58s - loss: 0.1858 - accuracy: 0.9452 - val_loss: 0.3703 - val_accuracy: 0.9019 - 58s/epoch - 579ms/step\n",
            "Epoch 91/100\n",
            "100/100 - 53s - loss: 0.1744 - accuracy: 0.9461 - val_loss: 0.4161 - val_accuracy: 0.9087 - 53s/epoch - 530ms/step\n",
            "Epoch 92/100\n",
            "100/100 - 52s - loss: 0.1852 - accuracy: 0.9455 - val_loss: 0.3837 - val_accuracy: 0.8903 - 52s/epoch - 525ms/step\n",
            "Epoch 93/100\n",
            "100/100 - 53s - loss: 0.1710 - accuracy: 0.9505 - val_loss: 0.4508 - val_accuracy: 0.9137 - 53s/epoch - 527ms/step\n",
            "Epoch 94/100\n",
            "100/100 - 53s - loss: 0.1780 - accuracy: 0.9471 - val_loss: 0.4495 - val_accuracy: 0.8984 - 53s/epoch - 526ms/step\n",
            "Epoch 95/100\n",
            "100/100 - 52s - loss: 0.1678 - accuracy: 0.9531 - val_loss: 0.3167 - val_accuracy: 0.9234 - 52s/epoch - 525ms/step\n",
            "Epoch 96/100\n",
            "100/100 - 53s - loss: 0.1854 - accuracy: 0.9463 - val_loss: 0.3751 - val_accuracy: 0.8950 - 53s/epoch - 527ms/step\n",
            "Epoch 97/100\n",
            "100/100 - 52s - loss: 0.1787 - accuracy: 0.9498 - val_loss: 0.2950 - val_accuracy: 0.9209 - 52s/epoch - 524ms/step\n",
            "Epoch 98/100\n",
            "100/100 - 53s - loss: 0.1879 - accuracy: 0.9480 - val_loss: 0.2877 - val_accuracy: 0.9197 - 53s/epoch - 525ms/step\n",
            "Epoch 99/100\n",
            "100/100 - 53s - loss: 0.1700 - accuracy: 0.9502 - val_loss: 0.3748 - val_accuracy: 0.9050 - 53s/epoch - 526ms/step\n",
            "Epoch 100/100\n",
            "100/100 - 53s - loss: 0.1786 - accuracy: 0.9506 - val_loss: 0.4933 - val_accuracy: 0.8991 - 53s/epoch - 528ms/step\n"
          ]
        }
      ],
      "source": [
        "history = model.fit(\n",
        "            train_generator,\n",
        "            validation_data = validation_generator,\n",
        "            steps_per_epoch = 100,\n",
        "            epochs = 100,\n",
        "            validation_steps = 50,\n",
        "            verbose = 2)"
      ]
    },
    {
      "cell_type": "code",
      "execution_count": 11,
      "metadata": {
        "colab": {
          "base_uri": "https://localhost:8080/"
        },
        "id": "wVIMq72LeACk",
        "outputId": "0f1bbefd-06ac-4da4-bc33-bdd5c8e6397f"
      },
      "outputs": [
        {
          "output_type": "stream",
          "name": "stderr",
          "text": [
            "WARNING:absl:Found untraced functions such as _jit_compiled_convolution_op, _jit_compiled_convolution_op, _jit_compiled_convolution_op, _jit_compiled_convolution_op, _jit_compiled_convolution_op while saving (showing 5 of 53). These functions will not be directly callable after loading.\n"
          ]
        }
      ],
      "source": [
        "model.save('/content/drive/MyDrive/saved_model/03model')\n",
        "model.save('/content/drive/MyDrive/saved_model/03model/03model.h5')"
      ]
    },
    {
      "cell_type": "code",
      "execution_count": 12,
      "metadata": {
        "id": "B58tS-L7Wgfh"
      },
      "outputs": [],
      "source": [
        "def plot_loss_acc(history):\n",
        "  '''Plots the training and validation loss and accuracy from a history object'''\n",
        "  acc = history.history['accuracy']\n",
        "  val_acc = history.history['val_accuracy']\n",
        "  loss = history.history['loss']\n",
        "  val_loss = history.history['val_loss']\n",
        "\n",
        "  epochs = range(len(acc))\n",
        "\n",
        "  plt.plot(epochs, acc, 'b', label='Training accuracy')\n",
        "  plt.plot(epochs, val_acc, 'r', label='Validation accuracy')\n",
        "  plt.title('Training and validation accuracy')\n",
        "\n",
        "  plt.figure()\n",
        "\n",
        "  plt.plot(epochs, loss, 'b', label='Training Loss')\n",
        "  plt.plot(epochs, val_loss, 'r', label='Validation Loss')\n",
        "  plt.title('Training and validation loss')\n",
        "  plt.legend()\n",
        "\n",
        "  plt.show()"
      ]
    },
    {
      "cell_type": "code",
      "execution_count": 14,
      "metadata": {
        "id": "fm7ENuc8Wi1q",
        "colab": {
          "base_uri": "https://localhost:8080/",
          "height": 545
        },
        "outputId": "a0a78e82-6777-426b-e28c-7e61eb652768"
      },
      "outputs": [
        {
          "output_type": "display_data",
          "data": {
            "text/plain": [
              "<Figure size 432x288 with 1 Axes>"
            ],
            "image/png": "[encoded data removed]"
          },
          "metadata": {
            "needs_background": "light"
          }
        },
        {
          "output_type": "display_data",
          "data": {
            "text/plain": [
              "<Figure size 432x288 with 1 Axes>"
            ],
            "image/png": "[encoded data removed]"
          },
          "metadata": {
            "needs_background": "light"
          }
        }
      ],
      "source": [
        "plot_loss_acc(history)\n",
        "# plot_loss_acc(new_model)"
      ]
    },
    {
      "cell_type": "markdown",
      "metadata": {
        "id": "0yfAwp30Pk6-"
      },
      "source": [
        "## **TEST**"
      ]
    },
    {
      "cell_type": "code",
      "execution_count": 15,
      "metadata": {
        "id": "Llt68VZePsBJ"
      },
      "outputs": [],
      "source": [
        "import os\n",
        "import numpy as np\n",
        "import tensorflow as tf"
      ]
    },
    {
      "cell_type": "code",
      "execution_count": 16,
      "metadata": {
        "colab": {
          "base_uri": "https://localhost:8080/"
        },
        "id": "1nk5BMYpPpY7",
        "outputId": "e8131f50-1c33-4894-ebeb-624b0b4df045"
      },
      "outputs": [
        {
          "output_type": "stream",
          "name": "stdout",
          "text": [
            "Model: \"sequential_1\"\n",
            "_________________________________________________________________\n",
            " Layer (type)                Output Shape              Param #   \n",
            "=================================================================\n",
            " resnet50 (Functional)       (None, 2048)              23587712  \n",
            "                                                                 \n",
            " flatten_1 (Flatten)         (None, 2048)              0         \n",
            "                                                                 \n",
            " dropout_1 (Dropout)         (None, 2048)              0         \n",
            "                                                                 \n",
            " dense_1 (Dense)             (None, 10)                20490     \n",
            "                                                                 \n",
            "=================================================================\n",
            "Total params: 23,608,202\n",
            "Trainable params: 23,555,082\n",
            "Non-trainable params: 53,120\n",
            "_________________________________________________________________\n"
          ]
        }
      ],
      "source": [
        "# new_model = tf.keras.models.load_model('/content/drive/MyDrive/saved_model/03model/03model.h5')\n",
        "new_model = tf.keras.models.load_model('/content/drive/MyDrive/saved_model/03model')\n",
        "new_model.summary()"
      ]
    },
    {
      "cell_type": "code",
      "execution_count": 17,
      "metadata": {
        "id": "ulffJkOAivGs"
      },
      "outputs": [],
      "source": [
        "from PIL import Image\n",
        "import json\n",
        "\n",
        "def jsonCustomFormatter(data) -> tuple[list,list]:\n",
        "  filename= []\n",
        "  for name in range(len(data)):\n",
        "      for bbox in range(len(data[name]['bboxes'])):\n",
        "          _name = data[name]['filename'].split('.')[0]+ \"_\" + str(data[name]['bboxes'][bbox]['bbox_id'])\n",
        "          filename.append(_name)\n",
        "\n",
        "  bboxes= []\n",
        "  # (left, top, right, bottom)\n",
        "  for name in range(len(data)):\n",
        "      for bbox in range(len(data[name]['bboxes'])):\n",
        "          _coor = []\n",
        "          _coor.append(data[name]['bboxes'][bbox]['x1'])\n",
        "          _coor.append(data[name]['bboxes'][bbox]['y1'])\n",
        "          _coor.append(data[name]['bboxes'][bbox]['x2'])\n",
        "          _coor.append(data[name]['bboxes'][bbox]['y2'])\n",
        "          bboxes.append(_coor)\n",
        "\n",
        "  return filename,bboxes\n",
        "\n",
        "\n",
        "def normImg(imgArray):\n",
        "  imgArray = imgArray / 255.\n",
        "  return imgArray\n",
        "\n",
        "\n",
        "def loadTestImage(path,test_filename,bboxes,w=300,h=300,):\n",
        "  test_img = []\n",
        "  for ele in range(len(test_filename)):\n",
        "    img = Image.open(os.path.join(path,str(test_filename[ele].split('_')[0]))+\".png\")\n",
        "    img = img.crop(bboxes[ele])\n",
        "    img = img.resize((w,h))\n",
        "    img = np.array(img)\n",
        "    img = normImg(img)\n",
        "    test_img.append(img)\n",
        "\n",
        "  return np.array(test_img)\n",
        "\n",
        "\n",
        "def JSONReader(json_path):\n",
        "  f = open(json_path)\n",
        "  with open(json_path, 'r', encoding='utf-8') as f:\n",
        "      data = json.load(f)\n",
        "  f.close()\n",
        "\n",
        "  filename,bboxes = jsonCustomFormatter(data=data)\n",
        "  del(data)\n",
        "\n",
        "  return filename,bboxes\n",
        "\n",
        "\n",
        "def BatchTest(path,filename,bboxes,model,w,h,batch_size):\n",
        "  pred_res = []\n",
        "  start = 0\n",
        "  final = batch_size\n",
        "\n",
        "  while True:\n",
        "    try:\n",
        "      test_img = loadTestImage(path,filename[start:final],bboxes[start:final],w,h))\n",
        "      pred = model.predict(test_img)\n",
        "      _pred_res = [ele.argmax() for ele in pred]\n",
        "      for ele in _pred_res:\n",
        "        pred_res.append(ele)\n",
        "      start = final\n",
        "      final = final + batch_size\n",
        "    except LookupError:  \n",
        "      print (\"Index Error Exception Raised, list index out of range\")\n",
        "\n",
        "  return pred_res\n"
      ]
    },
    {
      "cell_type": "code",
      "execution_count": 18,
      "metadata": {
        "colab": {
          "base_uri": "https://localhost:8080/"
        },
        "id": "Xy6H9cUxP5sy",
        "outputId": "443b0c41-be0b-4331-a61b-f7ade95c5060"
      },
      "outputs": [
        {
          "output_type": "execute_result",
          "data": {
            "text/plain": [
              "(26032, 26032)"
            ]
          },
          "metadata": {},
          "execution_count": 18
        }
      ],
      "source": [
        "json_path = '/content/dataset/test/IM_Test/IM_Test.json'\n",
        "\n",
        "filename,bboxes = JSONReader(json_path)\n",
        "\n",
        "len(filename),len(bboxes)"
      ]
    },
    {
      "cell_type": "code",
      "source": [
        "test_path = '/content/dataset/test/IM_Test/IM_Test'\n",
        "w ,h = 150,150\n",
        "\n",
        "pred_res = BatchTest(test_path,filename,bboxes,model,w,h,len(filename)/2)"
      ],
      "metadata": {
        "id": "FiOcRCFbN8hH"
      },
      "execution_count": null,
      "outputs": []
    },
    {
      "cell_type": "code",
      "execution_count": 19,
      "metadata": {
        "colab": {
          "base_uri": "https://localhost:8080/"
        },
        "id": "STiNnsq8QAY3",
        "outputId": "5170503b-4cfe-4409-d4ef-634f034af1b0"
      },
      "outputs": [
        {
          "output_type": "stream",
          "name": "stdout",
          "text": [
            "407/407 [==============================] - 23s 52ms/step\n"
          ]
        }
      ],
      "source": [
        "# test_path = '/content/dataset/test/IM_Test/IM_Test'\n",
        "# w ,h = 150,150\n",
        "# pred_res = []\n",
        "# test_img = np.array(loadTestImage(test_path,filename[0:int(len(filename)/2)],bboxes[0:int(len(filename)/2)] ,w=w,h=h))\n",
        "# pred = model.predict(test_img)\n",
        "# _pred_res = [x.argmax() for x in pred]\n",
        "# for x in _pred_res:\n",
        "#   pred_res.append(x)\n",
        "\n",
        "\n",
        "# del(test_img)\n",
        "# del(pred)"
      ]
    },
    {
      "cell_type": "code",
      "execution_count": 20,
      "metadata": {
        "colab": {
          "base_uri": "https://localhost:8080/"
        },
        "id": "7HnfY2YcQEQN",
        "outputId": "606709ab-091f-4480-c8f8-2b5cee54a092"
      },
      "outputs": [
        {
          "output_type": "stream",
          "name": "stdout",
          "text": [
            "407/407 [==============================] - 21s 53ms/step\n"
          ]
        }
      ],
      "source": [
        "# test_img = np.array(loadTestData(test_path,filename[int(len(filename)/2):],bboxes[int(len(filename)/2):] ,w=w,h=h))\n",
        "# pred = model.predict(test_img)\n",
        "# _pred_res = [x.argmax() for x in pred]\n",
        "# for x in _pred_res:\n",
        "#   pred_res.append(x)"
      ]
    },
    {
      "cell_type": "code",
      "execution_count": 21,
      "metadata": {
        "colab": {
          "base_uri": "https://localhost:8080/"
        },
        "id": "79cya8GvQHNQ",
        "outputId": "818d6d4a-57e7-402b-ee8d-63e4ec3c02f9"
      },
      "outputs": [
        {
          "output_type": "execute_result",
          "data": {
            "text/plain": [
              "0            1_0\n",
              "1            2_0\n",
              "2            2_1\n",
              "3            2_2\n",
              "4            3_0\n",
              "          ...   \n",
              "26027    13067_0\n",
              "26028    13067_1\n",
              "26029    13067_2\n",
              "26030    13068_0\n",
              "26031    13068_1\n",
              "Name: imageid_boxid, Length: 26032, dtype: object"
            ]
          },
          "metadata": {},
          "execution_count": 21
        }
      ],
      "source": [
        "import pandas as pd\n",
        "\n",
        "df = pd.read_csv('/content/drive/MyDrive/Submit/IM_Submit.csv')\n",
        "df['class'] = pred_res\n",
        "\n",
        "df['imageid_boxid']"
      ]
    },
    {
      "cell_type": "code",
      "execution_count": 22,
      "metadata": {
        "id": "O4MpxFuORVNz"
      },
      "outputs": [],
      "source": [
        "df.to_csv('/content/drive/MyDrive/Submit/IM_Submit06.csv',index=False)"
      ]
    },
    {
      "cell_type": "code",
      "execution_count": 23,
      "metadata": {
        "colab": {
          "base_uri": "https://localhost:8080/"
        },
        "id": "IC_1xKK5SA-S",
        "outputId": "eb028e36-f184-44b0-b312-6bcf2a3635e3"
      },
      "outputs": [
        {
          "output_type": "stream",
          "name": "stdout",
          "text": [
            "100% 233k/233k [00:03<00:00, 67.6kB/s]\n",
            "Successfully submitted to Hackathon Online: Image Processing"
          ]
        }
      ],
      "source": [
        "!kaggle competitions submit -c hackathon-online-2022-image-processing -f /content/drive/MyDrive/Submit/IM_Submit06.csv -m \"Machine(s) learning I learned nothing\""
      ]
    },
    {
      "cell_type": "code",
      "execution_count": null,
      "metadata": {
        "id": "q1AxrTQNSCb-"
      },
      "outputs": [],
      "source": []
    }
  ],
  "metadata": {
    "accelerator": "GPU",
    "colab": {
      "collapsed_sections": [],
      "machine_shape": "hm",
      "provenance": [],
      "toc_visible": true,
      "mount_file_id": "1xqRrrJPV7ikvM7zu-VJvNn2UF25si65A",
      "authorship_tag": "ABX9TyPZDuACLW87rl2NYSbf0ySg"
    },
    "gpuClass": "premium",
    "kernelspec": {
      "display_name": "Python 3",
      "name": "python3"
    },
    "language_info": {
      "name": "python"
    }
  },
  "nbformat": 4,
  "nbformat_minor": 0
}